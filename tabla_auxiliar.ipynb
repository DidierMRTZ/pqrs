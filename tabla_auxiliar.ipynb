{
 "cells": [
  {
   "cell_type": "code",
   "execution_count": 44,
   "metadata": {},
   "outputs": [],
   "source": [
    "import pyodbc\n",
    "from datetime import datetime\n",
    "import smtplib\n",
    "from email.mime.text import MIMEText\n",
    "from email.mime.multipart import MIMEMultipart"
   ]
  },
  {
   "cell_type": "code",
   "execution_count": 45,
   "metadata": {},
   "outputs": [],
   "source": [
    "dsn_name = \"pqrs_tabla_auxiliar\"\n",
    "user = \"Admin\"\n",
    "password = \"\"\n",
    "\n",
    "# Configuración\n",
    "email_address = 'diidierstev@gmail.com'\n",
    "email_password = 'bmdq yocj odxt mdxk'\n",
    "\n",
    "# Cadena de conexión ODBC\n",
    "conn_str = f\"DSN={dsn_name};UID={user};PWD={password}\"\n",
    "# Establecer la conexión\n",
    "conn_aux = pyodbc.connect(conn_str)\n",
    "# Crear un cursor\n",
    "cursor_aux = conn_aux.cursor()\n",
    "\n",
    "\n",
    "cursor_aux.execute(\"\"\"Select * from pqrs_mundimoto\"\"\")\n",
    "\n",
    "pqrs_tabla_auxiliar=cursor_aux.fetchall()"
   ]
  },
  {
   "cell_type": "code",
   "execution_count": 46,
   "metadata": {},
   "outputs": [],
   "source": [
    "#cursor_aux.execute(\"\"\"Delete from pqrs_mundimoto where RecordID = 946\"\"\")\n",
    "\n",
    "#pqrs_tabla_auxiliar=cursor_aux.fetchall()\n",
    "#pqrs_tabla_auxiliar"
   ]
  },
  {
   "cell_type": "code",
   "execution_count": 47,
   "metadata": {},
   "outputs": [],
   "source": [
    "#cursor_aux.execute(\"\"\"Delete from pqrs_mundimoto where Solicitud = 'Felicitaciones'\"\"\")\n"
   ]
  },
  {
   "cell_type": "code",
   "execution_count": 48,
   "metadata": {},
   "outputs": [],
   "source": [
    "dsn_name = \"pqrs\"\n",
    "user = \"Admin\"\n",
    "password = \"Admin123\"\n",
    "\n",
    "# Cadena de conexión ODBC\n",
    "conn_str = f\"DSN={dsn_name};UID={user};PWD={password}\"\n",
    "# Establecer la conexión\n",
    "conn = pyodbc.connect(conn_str)\n",
    "# Crear un cursor\n",
    "cursor = conn.cursor()\n",
    "\n",
    "for pqrs in pqrs_tabla_auxiliar:\n",
    "    if None in pqrs:\n",
    "        pqrs=['' if item is None else item for item in list(pqrs)]\n",
    "        pqrs=tuple(pqrs)\n",
    "    try:\n",
    "        Solicitud,Nombre_completo,Tipo_documento,Documento,Correo,Telefono_contacto,Fecha_compra,No_factura,Area_pqrs,Descripcion_pqrs,Sede,Politica_datos,RecordID=pqrs\n",
    "        Fecha_compra=str(Fecha_compra.strftime('%d/%m/%Y'))\n",
    "        #Fecha_compra=''\n",
    "        #print(Solicitud,Nombre_completo,Tipo_documento,Documento,Correo,Telefono_contacto,Fecha_compra,No_factura,Area_pqrs,Descripcion_pqrs,Sede,Politica_datos,id)\n",
    "        query=\"\"\"INSERT INTO PQRS (Solicitud,Nombre_completo,Tipo_documento,Documento,Correo,Telefono_contacto,Fecha_compra_texto,No_factura,Area_pqrs,Descripcion_pqrs,Sede,Politica_datos,RecordID) \n",
    "        values ('{0}','{1}','{2}',{3},'{4}',{5},'{6}','{7}','{8}','{9}','{10}','{11}',{12})\"\"\".format(Solicitud,Nombre_completo,Tipo_documento,Documento,Correo,Telefono_contacto,Fecha_compra,No_factura,Area_pqrs,Descripcion_pqrs,Sede,Politica_datos,RecordID)\n",
    "        #cursor.execute(query)\n",
    "        #conn.commit()\n",
    "        query_delete=\"\"\"Delete from pqrs_mundimoto where RecordID = {0}\"\"\".format(int(RecordID))\n",
    "        #cursor_aux.execute(query_delete)\n",
    "        #conn_aux.commit()\n",
    "        try:\n",
    "            \"\"\"-------------- Mensaje ..-----\"\"\"\n",
    "            # Crear el mensaje\n",
    "            mensaje = MIMEMultipart()\n",
    "            mensaje['From'] = email_address\n",
    "            mensaje['To'] = Correo\n",
    "            mensaje['Subject'] = 'Gestion PQRS'\n",
    "\n",
    "            # Contenido HTML del mensaje\n",
    "            contenido_html = f\"\"\"\n",
    "                <h2 style=\"text-align: center\">GESTION PQRS</h2>\n",
    "                <p> Hola, ¡esperamos te encuentres muy bien!\n",
    "                \n",
    "                Para Mundimotos es muy importante conocer tu opinión, por esto te confirmamos que hemos recibido tu PQR y la misma quedó radicada con el número {RecordID},  el cual te permitirá hacer seguimiento a tu trámite.\n",
    "                \n",
    "                Recuerda que contamos con 15 días hábiles (lunes a viernes) para dar respuesta, de acuerdo con ley 1755 de 2015.\n",
    "                \n",
    "                Gracias por escribirnos.</p>\n",
    "            \"\"\"\n",
    "\n",
    "            # Adjuntar el contenido HTML al mensaje\n",
    "            mensaje.attach(MIMEText(contenido_html, 'html'))\n",
    "\n",
    "            # Iniciar sesión en el servidor SMTP de Gmail\n",
    "            with smtplib.SMTP_SSL('smtp.gmail.com', 465) as servidor_smtp:\n",
    "                servidor_smtp.login(email_address, email_password)\n",
    "\n",
    "                # Enviar el correo electrónico\n",
    "                servidor_smtp.send_message(mensaje)\n",
    "        except:\n",
    "            print(\"No se envio correo\")\n",
    "    except:\n",
    "        print(query)\n",
    "        print('Error')\n",
    "\n",
    "\n",
    "#cursor_aux.execute(\"\"\"Delete from pqrs_mundimoto\"\"\")\n",
    "#conn_aux.commit()\n",
    "#conn_aux.close()\n",
    "conn.close()"
   ]
  }
 ],
 "metadata": {
  "kernelspec": {
   "display_name": "pqrs",
   "language": "python",
   "name": "python3"
  },
  "language_info": {
   "codemirror_mode": {
    "name": "ipython",
    "version": 3
   },
   "file_extension": ".py",
   "mimetype": "text/x-python",
   "name": "python",
   "nbconvert_exporter": "python",
   "pygments_lexer": "ipython3",
   "version": "3.11.7"
  }
 },
 "nbformat": 4,
 "nbformat_minor": 2
}
