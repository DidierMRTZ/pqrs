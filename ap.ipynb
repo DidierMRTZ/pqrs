{
 "cells": [
  {
   "cell_type": "code",
   "execution_count": 4,
   "metadata": {},
   "outputs": [
    {
     "ename": "ModuleNotFoundError",
     "evalue": "No module named 'psycopg2'",
     "output_type": "error",
     "traceback": [
      "\u001b[1;31m---------------------------------------------------------------------------\u001b[0m",
      "\u001b[1;31mModuleNotFoundError\u001b[0m                       Traceback (most recent call last)",
      "Cell \u001b[1;32mIn[4], line 2\u001b[0m\n\u001b[0;32m      1\u001b[0m \u001b[38;5;28;01mfrom\u001b[39;00m \u001b[38;5;21;01mflask\u001b[39;00m \u001b[38;5;28;01mimport\u001b[39;00m Flask\n\u001b[1;32m----> 2\u001b[0m \u001b[38;5;28;01mimport\u001b[39;00m \u001b[38;5;21;01mpsycopg2\u001b[39;00m\n\u001b[0;32m      3\u001b[0m \u001b[38;5;28;01mfrom\u001b[39;00m \u001b[38;5;21;01mflask\u001b[39;00m \u001b[38;5;28;01mimport\u001b[39;00m Flask, render_template, request, redirect, url_for\n\u001b[0;32m      4\u001b[0m \u001b[38;5;28;01mimport\u001b[39;00m \u001b[38;5;21;01mflask\u001b[39;00m\n",
      "\u001b[1;31mModuleNotFoundError\u001b[0m: No module named 'psycopg2'"
     ]
    }
   ],
   "source": [
    "from flask import Flask\n",
    "import psycopg2\n",
    "from flask import Flask, render_template, request, redirect, url_for\n",
    "import flask\n",
    "import os\n",
    "\n",
    "import os\n",
    "from flask import Flask, flash, request, redirect, url_for\n",
    "from werkzeug.utils import secure_filename\n",
    "\n",
    "UPLOAD_FOLDER = 'uploads/'\n",
    "ALLOWED_EXTENSIONS = {'txt', 'pdf', 'png', 'jpg', 'jpeg', 'gif'}\n",
    "\n",
    "app = Flask(__name__)\n",
    "app.config['UPLOAD_FOLDER'] = UPLOAD_FOLDER\n",
    "\n",
    "# Crear el directorio de subidas si no existe\n",
    "if not os.path.exists(app.config['UPLOAD_FOLDER']):\n",
    "    os.makedirs(app.config['UPLOAD_FOLDER'])\n",
    "\n",
    "@app.route('/')\n",
    "def index():\n",
    "    return render_template('form.html')\n",
    "\n",
    "@app.route('/submit', methods=['POST'])\n",
    "def submit():\n",
    "    conn = psycopg2.connect(\n",
    "        host=\"localhost\",\n",
    "        database=\"postgres\",\n",
    "        user=\"postgres\",\n",
    "        password=\"postgres\"\n",
    "    )\n",
    "    cur= conn.cursor()\n",
    "\n",
    "    if request.method == 'POST':\n",
    "        \"\"\"--------------- campo para el archivo adjunto --------------\"\"\"\n",
    "        #file=request.files['file']\n",
    "        #name_file=file.filename\n",
    "        #file.save(os.path.join(app.config['UPLOAD_FOLDER'], file.filename))\n",
    "        if 'file' not in request.files:\n",
    "            name_file=''\n",
    "        file = request.files['file']\n",
    "        if file.filename == '':\n",
    "            name_file=file.filename\n",
    "        if file:\n",
    "            # Guardar el archivo en el directorio configurado\n",
    "            file.save(os.path.join(app.config['UPLOAD_FOLDER'], file.filename))\n",
    "            name_file=file.filename\n",
    "        name = request.form['name']\n",
    "        email = request.form['email']\n",
    "        selected_option = request.form.get(\"options_documento\")\n",
    "        numero_documento=request.form[\"numberdocumento\"]\n",
    "        numero_factura=request.form[\"numerofactura\"]\n",
    "        fecha=request.form[\"fecha\"]\n",
    "        area=request.form[\"area\"]\n",
    "        sede=request.form[\"sede\"]\n",
    "        selected_politica = request.form.get(\"politica\")\n",
    "        #cur.execute(\"\"\"INSERT INTO test (nombre,correo,file) values ('{0}','{1}','{2}')\"\"\".format(name,email,name_file))\n",
    "        #conn.commit()\n",
    "        return f\"Nombre: {name}, Email: {email}, File:{name_file},Tipo_cedula:{selected_option},numero_documento:{numero_documento},numerofactura:{numero_factura},fecha:{fecha},area:{area},sede:{sede},politica:{selected_politica}\"\n",
    "    return redirect(url_for('index'))\n",
    "\n",
    "\n",
    "\n",
    "if __name__ == '__main__':\n",
    "\tapp.run(host='0.0.0.0', port=8001)\n"
   ]
  }
 ],
 "metadata": {
  "kernelspec": {
   "display_name": "base",
   "language": "python",
   "name": "python3"
  },
  "language_info": {
   "codemirror_mode": {
    "name": "ipython",
    "version": 3
   },
   "file_extension": ".py",
   "mimetype": "text/x-python",
   "name": "python",
   "nbconvert_exporter": "python",
   "pygments_lexer": "ipython3",
   "version": "3.11.7"
  }
 },
 "nbformat": 4,
 "nbformat_minor": 2
}
