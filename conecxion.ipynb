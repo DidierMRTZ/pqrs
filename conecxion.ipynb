{
 "cells": [
  {
   "cell_type": "code",
   "execution_count": 29,
   "metadata": {},
   "outputs": [],
   "source": [
    "import pandas as pd\n",
    "import re\n",
    "import pyodbc"
   ]
  },
  {
   "cell_type": "code",
   "execution_count": 32,
   "metadata": {},
   "outputs": [
    {
     "data": {
      "text/plain": [
       "'-------------------------------------------------------------------------------------------------------------'"
      ]
     },
     "execution_count": 32,
     "metadata": {},
     "output_type": "execute_result"
    }
   ],
   "source": [
    "\"\"\"-----------------------------------------Crear conecxion base datos------------------------------------------\"\"\"\n",
    "#connection Database OBDC Filemaker \n",
    "dsn_name = \"pqrs\"  \n",
    "user = \"Admin\"\n",
    "password = \"Admin123\"\n",
    "\n",
    "# Cadena de conexión ODBC\n",
    "conn_str = f\"DSN={dsn_name};UID={user};PWD={password}\"\n",
    "\n",
    "# Establecer la conexión\n",
    "conn = pyodbc.connect(conn_str)\n",
    "\n",
    "# Crear un cursor\n",
    "cursor = conn.cursor()\n",
    "\n",
    "\"\"\"-------------------------------------------------------------------------------------------------------------\"\"\"\n"
   ]
  },
  {
   "cell_type": "code",
   "execution_count": 33,
   "metadata": {},
   "outputs": [],
   "source": [
    "\n",
    "# Ejemplo de consulta\n",
    "query = \"\"\"SELECT * FROM Form_PQRS_prueba\"\"\"\n",
    "cursor.execute(query)\n",
    "# Obtener resultados\n",
    "results = cursor.fetchall()"
   ]
  },
  {
   "cell_type": "code",
   "execution_count": 34,
   "metadata": {},
   "outputs": [
    {
     "data": {
      "text/plain": [
       "[]"
      ]
     },
     "execution_count": 34,
     "metadata": {},
     "output_type": "execute_result"
    }
   ],
   "source": [
    "results"
   ]
  }
 ],
 "metadata": {
  "kernelspec": {
   "display_name": "Python 3",
   "language": "python",
   "name": "python3"
  },
  "language_info": {
   "codemirror_mode": {
    "name": "ipython",
    "version": 3
   },
   "file_extension": ".py",
   "mimetype": "text/x-python",
   "name": "python",
   "nbconvert_exporter": "python",
   "pygments_lexer": "ipython3",
   "version": "3.11.7"
  }
 },
 "nbformat": 4,
 "nbformat_minor": 2
}
