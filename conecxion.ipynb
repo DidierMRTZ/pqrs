{
 "cells": [
  {
   "cell_type": "code",
   "execution_count": 1,
   "metadata": {},
   "outputs": [],
   "source": [
    "import pandas as pd\n",
    "import re\n",
    "import pyodbc"
   ]
  },
  {
   "cell_type": "code",
   "execution_count": 2,
   "metadata": {},
   "outputs": [
    {
     "data": {
      "text/plain": [
       "'-------------------------------------------------------------------------------------------------------------'"
      ]
     },
     "execution_count": 2,
     "metadata": {},
     "output_type": "execute_result"
    }
   ],
   "source": [
    "\"\"\"-----------------------------------------Crear conecxion base datos------------------------------------------\"\"\"\n",
    "#connection Database OBDC Filemaker \n",
    "dsn_name = \"pqrs\"  \n",
    "user = \"Admin\"\n",
    "password = \"Admin123\"\n",
    "\n",
    "# Cadena de conexión ODBC\n",
    "conn_str = f\"DSN={dsn_name};UID={user};PWD={password}\"\n",
    "\n",
    "# Establecer la conexión\n",
    "conn = pyodbc.connect(conn_str)\n",
    "\n",
    "# Crear un cursor\n",
    "cursor = conn.cursor()\n",
    "\n",
    "\"\"\"-------------------------------------------------------------------------------------------------------------\"\"\"\n"
   ]
  },
  {
   "cell_type": "code",
   "execution_count": 3,
   "metadata": {},
   "outputs": [],
   "source": [
    "\n",
    "# Ejemplo de consulta\n",
    "query = \"\"\"SELECT * FROM Form_PQRS\"\"\"\n",
    "cursor.execute(query)\n",
    "# Obtener resultados\n",
    "results = cursor.fetchall()"
   ]
  },
  {
   "cell_type": "code",
   "execution_count": 4,
   "metadata": {},
   "outputs": [
    {
     "data": {
      "text/plain": [
       "[('Didier Martinez', None, None, None, None, None, None, None, None, None, None, None, 'Cédula ciudadanía', 'dd', 123123.0, 'aads@sdas.com', '+1 320 879 4858', None, None, None, None, None, 'Felicitaciones', None, None, None, datetime.date(2024, 6, 13), None, None, None, None, None),\n",
       " ('Didier Martinez', None, None, None, None, None, None, None, None, None, None, None, 'Cédula ciudadanía', 'diidier', 343554.0, 'martinez@gmail.com', '+1 320 879 4657', None, None, None, None, None, 'Sugerencia', None, None, None, datetime.date(2024, 6, 13), None, None, None, None, None),\n",
       " (None, None, None, None, None, None, None, None, None, None, None, None, 'Cédula ciudadanía', 'Shjdhsdj', 12148481.0, 'Hdhs@shshs.con', '+57 320 8794858', datetime.date(2024, 6, 12), 'Vabahsh', 'Servicio al cliente (Gestión del asesor, del cajero y entrega del producto)', 'Bogota (Soacha)', None, 'Sugerencia', None, None, None, datetime.date(2024, 6, 13), None, datetime.date(2024, 6, 13), 'U1', None, None),\n",
       " ('Didier Martinez', None, None, None, None, None, None, None, None, None, None, None, 'Cédula ciudadanía', 'fro', 423234.0, 'dasd@asdas.com', '+57 320 8794858', datetime.date(2024, 6, 26), 'vsfeerwrwe', 'Servicio al cliente (Gestión del asesor, del cajero y entrega del producto)', 'Cali', 'No acepto', 'Sugerencia', None, None, None, datetime.date(2024, 6, 13), None, datetime.date(2024, 6, 13), 'U2', None, None),\n",
       " ('Walter Hernandez', None, None, None, None, None, None, None, None, None, None, None, 'Cédula ciudadanía', 'wfvev', None, '214234w@gmail.com', None, datetime.date(2024, 6, 4), 'auger', 'Servicio al cliente (Gestión del asesor, del cajero y entrega del producto)', 'Bogota (Soacha)', 'Acepto', 'Reclamo', None, None, None, datetime.date(2024, 5, 27), None, None, None, None, None),\n",
       " ('Walter Hernandez', None, None, None, None, None, None, None, None, None, None, None, 'Cédula ciudadanía', 'wfvev', None, '214234w@gmail.com', None, datetime.date(2024, 6, 4), 'auger', 'Servicio al cliente (Gestión del asesor, del cajero y entrega del producto)', 'Bogota (Soacha)', 'Acepto', 'Reclamo', None, None, None, datetime.date(2024, 6, 13), None, None, None, None, None),\n",
       " ('Santiago Rubio', None, None, None, None, None, None, None, None, None, None, None, 'Cédula ciudadanía', 'PruebaSanti', None, 'sgrubio@celerix.com', None, datetime.date(2024, 6, 11), 'PruebaSanti', 'Servicio al cliente (Gestión del asesor, del cajero y entrega del producto)', 'Barranquilla\\rMedellin (Área metropolitana y Rio negro)', 'Acepto', 'Reclamo', None, None, None, datetime.date(2024, 6, 13), None, None, None, None, None),\n",
       " ('Santiago Rubio', None, None, None, None, None, None, None, None, None, None, None, 'Cédula ciudadanía', 'PruebaSanti', None, 'sgrubio@celerix.com', None, datetime.date(2024, 6, 11), 'PruebaSanti', 'Servicio al cliente (Gestión del asesor, del cajero y entrega del producto)', 'Barranquilla\\rMedellin (Área metropolitana y Rio negro)', 'Acepto', 'Reclamo', None, None, None, datetime.date(2024, 6, 13), None, None, None, None, None),\n",
       " ('Santiago Rubio', None, None, None, None, None, None, None, None, None, None, None, 'Cédula ciudadanía\\rNIT', 'PruebaConexionFM', 19301203.0, 'PruebaConexionFM@gmail.com', None, datetime.date(2024, 6, 12), 'N0231412', 'Garantía (Calidad, Idoneidad y seguridad del repuesto)', 'Cali', 'Acepto', 'Petición', 1111111111.0, None, None, datetime.date(2024, 6, 6), '222222222222222PruebaConexionFMPruebaConexionFMPruebaConexionFMPruebaConexionFMPruebaConexionFMPruebaConexionFMPruebaConexionFMPruebaConexionFMPruebaConexionFMPruebaConexionFMPruebaConexionFM222222222222222', datetime.date(2024, 6, 11), None, None, None),\n",
       " ('Santiago Rubio', None, None, None, None, None, None, None, None, None, None, None, 'Cédula ciudadanía\\rNIT', 'PruebaConexionFM', 19301203.0, 'PruebaConexionFM@gmail.com', None, datetime.date(2024, 6, 12), 'N0231412', 'Garantía (Calidad, Idoneidad y seguridad del repuesto)', 'Cali', 'Acepto', 'Petición', 1111111111.0, None, None, datetime.date(2024, 6, 4), '222222222222222PruebaConexionFMPruebaConexionFMPruebaConexionFMPruebaConexionFMPruebaConexionFMPruebaConexionFMPruebaConexionFMPruebaConexionFMPruebaConexionFMPruebaConexionFMPruebaConexionFM222222222222222', datetime.date(2024, 6, 13), 'U1', None, None),\n",
       " (None, None, None, None, None, None, None, None, None, None, None, None, None, '1', None, None, None, None, None, None, None, None, 'Queja', None, None, None, datetime.date(2024, 6, 13), None, None, 'U2', None, None),\n",
       " (None, None, None, None, None, None, None, None, None, None, None, None, 'Cédula ciudadanía', 'Didier', 12345.0, 'ds@ddfgf.com', None, datetime.date(2024, 6, 12), 'tgfhfhf', 'Servicio al cliente (Gestión del asesor, del cajero y entrega del producto)', 'Barranquilla', 'Acepto', 'Queja', 547766776.0, None, None, datetime.date(2024, 5, 27), 'lkjlkjlkjlkk', datetime.date(2024, 6, 13), 'U1', None, None),\n",
       " (None, None, None, None, None, None, None, None, None, None, None, None, 'Cédula ciudadanía', 'Didier', 12345.0, 'ds@ddfgf.com', None, datetime.date(2024, 6, 12), 'tgfhfhf', 'Servicio al cliente (Gestión del asesor, del cajero y entrega del producto)', 'Barranquilla', 'Acepto', 'Queja', 547766776.0, None, None, datetime.date(2024, 6, 12), 'lkjlkjlkjlkk', None, None, None, None),\n",
       " (None, None, None, None, None, None, None, None, None, None, None, None, 'Cédula ciudadanía', 'Didier Martinez', 12312313.0, 'dsmartinez@unal.edu', None, datetime.date(2024, 6, 19), 'sodas', 'Servicio al cliente (Gestión del asesor, del cajero y entrega del producto)', 'Bogota (Soacha)', 'Acepto', 'Queja', 3123123123.0, None, None, datetime.date(2024, 6, 12), 'asdasdasdasd', None, None, None, None),\n",
       " ('Santiago Rubio', None, None, None, None, None, None, None, None, None, None, None, 'Cédula extranjería', 'PruebaConexionFM2', 1010101010.0, 'PruebaConexionFM2@celerix.com', None, datetime.date(2024, 6, 12), 'F99382', 'Garantía (Calidad, Idoneidad y seguridad del repuesto)', 'Bucaramanga', 'Acepto', 'Queja', 333333333.0, None, None, datetime.date(2024, 6, 12), 'PruebaConexionFM2PruebaConexionFM2PruebaConexionFM2PruebaConexionFM2PruebaConexionFM2', None, None, None, None),\n",
       " ('Santiago Rubio', None, None, None, None, None, None, None, None, None, None, None, 'Cédula extranjería', 'PruebaConexionFM2', 1010101010.0, 'PruebaConexionFM2@celerix.com', None, datetime.date(2024, 6, 12), 'F99382', 'Garantía (Calidad, Idoneidad y seguridad del repuesto)', 'Bucaramanga', 'Acepto', 'Queja', 333333333.0, None, None, datetime.date(2024, 6, 12), 'PruebaConexionFM2PruebaConexionFM2PruebaConexionFM2PruebaConexionFM2PruebaConexionFM2', None, None, None, None),\n",
       " (None, None, None, None, None, None, None, None, None, None, None, None, 'Cédula ciudadanía', 'test', 341212.0, 'test@gmail.com', None, datetime.date(2024, 6, 20), '13213', 'Servicio al cliente (Gestión del asesor, del cajero y entrega del producto)', 'Barranquilla', 'Acepto', 'Felicitaciones', 213123123.0, None, None, datetime.date(2024, 6, 12), None, None, None, None, None),\n",
       " (None, None, None, None, None, None, None, None, None, None, None, None, 'Cédula ciudadanía', 'test', 341212.0, 'test@gmail.com', None, datetime.date(2024, 6, 20), '13213', 'Servicio al cliente (Gestión del asesor, del cajero y entrega del producto)', 'Barranquilla', 'Acepto', 'Felicitaciones', 213123123.0, None, None, datetime.date(2024, 6, 12), None, None, None, None, None),\n",
       " (None, None, None, None, None, None, None, None, None, None, None, None, 'Cédula extranjería', 'PruebaSanti2', 2229292929.0, 'PruebaSanti2@celerix.com', None, datetime.date(2024, 6, 10), 'P12u312737', 'Servicio al cliente (Gestión del asesor, del cajero y entrega del producto)', 'Medellin (Área metropolitana y Rio negro)', 'Acepto', 'Sugerencia', 1234567890.0, None, None, datetime.date(2024, 6, 12), 'PruebaSanti2PruebaSanti2PruebaSanti2PruebaSanti2PruebaSanti2PruebaSanti2w', None, None, None, None),\n",
       " (None, None, None, None, None, None, None, None, None, None, None, None, 'Cédula extranjería', 'PruebaSanti2', 2229292929.0, 'PruebaSanti2@celerix.com', None, datetime.date(2024, 6, 10), 'P12u312737', 'Servicio al cliente (Gestión del asesor, del cajero y entrega del producto)', 'Medellin (Área metropolitana y Rio negro)', 'Acepto', 'Sugerencia', 1234567890.0, None, None, datetime.date(2024, 6, 12), 'PruebaSanti2PruebaSanti2PruebaSanti2PruebaSanti2PruebaSanti2PruebaSanti2w', None, None, None, None),\n",
       " (None, None, None, None, None, None, None, None, None, None, None, None, 'Cédula ciudadanía', 'das', 234234.0, 'dska@gmail.com', None, datetime.date(2024, 6, 18), '123123123', 'Garantía (Calidad, Idoneidad y seguridad del repuesto)', 'Canal Digital (pagina web, e-commerce, chat) ', 'Acepto', 'Petición', 312312.0, None, None, datetime.date(2024, 5, 28), 'qwwqe', None, None, None, None),\n",
       " (None, None, None, None, None, None, None, None, None, None, None, None, 'Cédula ciudadanía', 'das', 234234.0, 'dska@gmail.com', None, datetime.date(2024, 6, 18), '123123123', 'Garantía (Calidad, Idoneidad y seguridad del repuesto)', 'Canal Digital (pagina web, e-commerce, chat) ', 'Acepto', 'Petición', 312312.0, None, None, datetime.date(2024, 5, 27), 'qwwqe', None, None, None, None),\n",
       " (None, None, None, None, None, None, None, None, None, None, None, None, 'Cédula ciudadanía', 'salads', 23123123.0, 'dsmartins@gmail.com', None, datetime.date(2024, 6, 26), '12312312', 'Garantía (Calidad, Idoneidad y seguridad del repuesto)', 'Cucuta', 'Acepto', 'Reclamo', 12312312.0, None, None, datetime.date(2024, 6, 13), 'sfsdf', None, None, None, None),\n",
       " (None, None, None, None, None, None, None, None, None, None, None, None, 'Cédula ciudadanía', 'salads', 23123123.0, 'dsmartins@gmail.com', None, datetime.date(2024, 6, 26), '12312312', 'Garantía (Calidad, Idoneidad y seguridad del repuesto)', 'Bogota (Soacha)', 'Acepto', 'Reclamo', 12312312.0, None, None, datetime.date(2024, 6, 12), 'sfsdf', None, None, None, None),\n",
       " (None, None, None, None, None, None, None, None, None, None, None, None, 'Cédula ciudadanía', None, 213123123.0, 'ds@sdsad.com', None, datetime.date(2024, 6, 6), '23123123', 'Servicio al cliente (Gestión del asesor, del cajero y entrega del producto)', 'Cali', 'Acepto', 'Sugerencia', 4234234.0, None, None, datetime.date(2024, 6, 12), 'klnlnlknkkln', None, None, None, None),\n",
       " (None, None, None, None, None, None, None, None, None, None, None, None, 'Cédula ciudadanía', 'testdidier', 123456788.0, 'tst@adsdas.com', None, datetime.date(2024, 6, 24), '23123123', 'Servicio al cliente (Gestión del asesor, del cajero y entrega del producto)', 'Barranquilla', 'Acepto', 'Reclamo', 23123123.0, None, None, datetime.date(2024, 6, 12), 'test', None, None, None, None),\n",
       " (None, None, None, None, None, None, None, None, None, None, None, None, 'NIT', 'Santiago G', 0.0, 'SantiagoG@celerix.com', None, datetime.date(2024, 6, 9), 'PO0192193', 'Servicio al cliente (Gestión del asesor, del cajero y entrega del producto)', 'Cali', 'Acepto', 'Petición', 111111111.0, None, None, datetime.date(2024, 6, 12), 'Santiago GSantiago G', None, None, None, None),\n",
       " ('Santiago Rubio', None, None, None, None, None, None, None, None, None, None, None, 'Cédula ciudadanía', 'Desp1', 9191919191.0, 'Desp1@celerix.com', None, datetime.date(2024, 6, 5), 'Desp11231234', 'Servicio al cliente (Gestión del asesor, del cajero y entrega del producto)', 'Medellin (Área metropolitana y Rio negro)', 'Acepto', 'Queja', 10101010101.0, None, None, datetime.date(2024, 6, 12), 'Desp1Desp1Desp1Desp1Desp192929193838456', None, None, None, None),\n",
       " ('Santiago Rubio', None, None, None, None, None, None, None, None, None, None, None, 'Cédula ciudadanía', 'SGR.1', 123456789.0, 'SGR.1@prueba.com', None, datetime.date(2024, 6, 5), 'SGR.11273ajj', 'Garantía (Calidad, Idoneidad y seguridad del repuesto)', 'Canal Digital (pagina web, e-commerce, chat) ', 'Acepto', 'Reclamo', 98371273.0, None, None, datetime.date(2024, 6, 13), 'SGR.1SGR.1SGR.1SGR.1SGR.1SGR.1SGR.1', None, None, None, None),\n",
       " ('Santiago Rubio', None, None, None, None, None, None, None, None, None, None, None, 'Cédula ciudadanía', 'PruebaImagen', 12374665656.0, 'PruebaImagen@celerix.com', None, datetime.date(2024, 6, 11), 'Pq0231', 'Garantía (Calidad, Idoneidad y seguridad del repuesto)', 'Cali', 'Acepto', 'Reclamo', 99988887777.0, None, None, datetime.date(2024, 6, 14), 'PruebaImagenPruebaImagenPruebaImagenPruebaImagenPruebaImagenPruebaImagenPruebaImagenPruebaImagenPruebaImagenPruebaImagen', None, None, None, None),\n",
       " ('Santiago Rubio', None, None, None, None, None, None, None, None, None, None, None, 'Cédula ciudadanía', None, None, None, None, None, None, None, None, None, None, None, None, None, datetime.date(2024, 6, 14), None, None, None, None, None)]"
      ]
     },
     "execution_count": 4,
     "metadata": {},
     "output_type": "execute_result"
    }
   ],
   "source": [
    "results"
   ]
  }
 ],
 "metadata": {
  "kernelspec": {
   "display_name": "Python 3",
   "language": "python",
   "name": "python3"
  },
  "language_info": {
   "codemirror_mode": {
    "name": "ipython",
    "version": 3
   },
   "file_extension": ".py",
   "mimetype": "text/x-python",
   "name": "python",
   "nbconvert_exporter": "python",
   "pygments_lexer": "ipython3",
   "version": "3.11.7"
  }
 },
 "nbformat": 4,
 "nbformat_minor": 2
}
