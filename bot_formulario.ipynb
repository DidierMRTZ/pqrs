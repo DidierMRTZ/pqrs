{
 "cells": [
  {
   "cell_type": "code",
   "execution_count": 68,
   "metadata": {},
   "outputs": [],
   "source": [
    "import pyodbc\n",
    "from datetime import datetime\n",
    "import smtplib\n",
    "from email.mime.text import MIMEText\n",
    "from email.mime.multipart import MIMEMultipart\n",
    "import msal\n",
    "from dotenv import load_dotenv\n",
    "import os\n",
    "import requests"
   ]
  },
  {
   "cell_type": "code",
   "execution_count": 69,
   "metadata": {},
   "outputs": [],
   "source": [
    "\"\"\"------------- Crear conecxion con base datos ODBC --------------\"\"\"\n",
    "# Load enviroment variables from the .env file\n",
    "load_dotenv('enviroment.env')\n",
    "# access the environment variables\n",
    "dsn_name  = os.getenv(\"dsn_name\")\n",
    "user= os.getenv(\"user\")\n",
    "password = os.getenv(\"password\")\n",
    "# Cadena de conexión ODBC\n",
    "conn_str = f\"DSN={dsn_name};UID={user};PWD={password}\"\n",
    "# Establecer la conexión\n",
    "conn = pyodbc.connect(conn_str)\n",
    "# Crear un cursor\n",
    "cursor = conn.cursor()\n",
    "\n",
    "\n",
    "\"\"\"--------- datos para el email ---------- \"\"\"\n",
    "# Configuración\n",
    "email_address = 'diidierstev@gmail.com'\n",
    "email_password = 'bmdq yocj odxt mdxk'"
   ]
  },
  {
   "cell_type": "code",
   "execution_count": 70,
   "metadata": {},
   "outputs": [
    {
     "name": "stdout",
     "output_type": "stream",
     "text": [
      "Token: eyJ0eXAiOiJKV1QiLCJub25jZSI6IjdxV0ZpZlhNamtlNkVHOVBMMHR2RlR6czE3cjVER1ZaTjgtU1dWei1tQTgiLCJhbGciOiJSUzI1NiIsIng1dCI6Ik1HTHFqOThWTkxvWGFGZnBKQ0JwZ0I0SmFLcyIsImtpZCI6Ik1HTHFqOThWTkxvWGFGZnBKQ0JwZ0I0SmFLcyJ9.eyJhdWQiOiJodHRwczovL2dyYXBoLm1pY3Jvc29mdC5jb20iLCJpc3MiOiJodHRwczovL3N0cy53aW5kb3dzLm5ldC81NzlkOTgwNi00NDEzLTQ1MGQtODk2Mi0zZDQ2NmZiNzlmZGQvIiwiaWF0IjoxNzE5NDEyMjQzLCJuYmYiOjE3MTk0MTIyNDMsImV4cCI6MTcxOTQxNjE0MywiYWlvIjoiRTJkZ1lQZzE0M2VybzJ4bzc4VTNpdzVQYk05aEJBQT0iLCJhcHBfZGlzcGxheW5hbWUiOiJtdW5kaW1vdG9zX3BxciIsImFwcGlkIjoiYzIxY2IyNGUtMWRhZS00M2RjLTkyMWEtZjJmOTZjMDg3YzcxIiwiYXBwaWRhY3IiOiIxIiwiaWRwIjoiaHR0cHM6Ly9zdHMud2luZG93cy5uZXQvNTc5ZDk4MDYtNDQxMy00NTBkLTg5NjItM2Q0NjZmYjc5ZmRkLyIsImlkdHlwIjoiYXBwIiwib2lkIjoiNzE2ODdkZWQtYzkyMy00NDExLTk2YmEtYTJlMmFiZjU0OTI4IiwicmgiOiIwLkFUUUFCcGlkVnhORURVV0pZajFHYjdlZjNRTUFBQUFBQUFBQXdBQUFBQUFBQUFBMEFBQS4iLCJyb2xlcyI6WyJGaWxlcy5SZWFkV3JpdGUuQXBwRm9sZGVyIiwiQnJvd3NlclNpdGVMaXN0cy5SZWFkLkFsbCIsIlNpdGVzLlNlbGVjdGVkIiwiRmlsZXMuU2VsZWN0ZWRPcGVyYXRpb25zLlNlbGVjdGVkIiwiU2l0ZXMuUmVhZC5BbGwiLCJTaXRlcy5SZWFkV3JpdGUuQWxsIiwiU2l0ZXMuTWFuYWdlLkFsbCIsIkZpbGVzLlJlYWRXcml0ZS5BbGwiLCJCcm93c2VyU2l0ZUxpc3RzLlJlYWRXcml0ZS5BbGwiLCJGaWxlcy5SZWFkLkFsbCIsIlNpdGVzLkZ1bGxDb250cm9sLkFsbCJdLCJzdWIiOiI3MTY4N2RlZC1jOTIzLTQ0MTEtOTZiYS1hMmUyYWJmNTQ5MjgiLCJ0ZW5hbnRfcmVnaW9uX3Njb3BlIjoiU0EiLCJ0aWQiOiI1NzlkOTgwNi00NDEzLTQ1MGQtODk2Mi0zZDQ2NmZiNzlmZGQiLCJ1dGkiOiJqQW5yZ285d1gwSzIydzBiS0NxdEFBIiwidmVyIjoiMS4wIiwid2lkcyI6WyIwOTk3YTFkMC0wZDFkLTRhY2ItYjQwOC1kNWNhNzMxMjFlOTAiXSwieG1zX2lkcmVsIjoiNyAyNCIsInhtc190Y2R0IjoxNDE0MDgzODI4fQ.qR4JKVrkkcWf5gaBwJEj6_ZKFeZNLEXdeKzj36McfsHbLLanEi0zhcJlIeD_Vuv0L3BxHanmGqJ4jzlUaAgMPE55pHXwSC9zEDnP-ztak3iLi8woxQBuHboOmR1sLm8HTIx4MlwmOWRcLbfGI158y9HCFs3ULNWH3c0IEwFE-CSLnMhaIN_QdfAvHI5gZH76adGuxEtPvpndlo_9vmQI0bzeCQw0xkgTFqslDqGdbyxKwUk4kI_3G1AQn9Sr4UCjEfTbYdCSRobRZUa7KL0ru1Q2vR6gZbrP5Jt_rzLngoZkx7q6ScPhhPh16jgPdpxHODDO2EoDxJi3726Yi9cZ8w\n"
     ]
    }
   ],
   "source": [
    "\"\"\" ------------------------ Generar token autenticacion con API graph microsoft ---------\"\"\"\n",
    "\n",
    "client_id = os.getenv(\"client_id\")\n",
    "client_secret = os.getenv(\"client_secret\")\n",
    "tenant_id = os.getenv(\"tenant_id\")\n",
    "\n",
    "authority = f\"https://login.microsoftonline.com/{tenant_id}\"\n",
    "app = msal.ConfidentialClientApplication(client_id, authority=authority, client_credential=client_secret)\n",
    "\n",
    "scope = [\"https://graph.microsoft.com/.default\"]\n",
    "result = app.acquire_token_for_client(scopes=scope)\n",
    "\n",
    "if \"access_token\" in result:\n",
    "    token = result['access_token']\n",
    "    print(f'Token: {token}')\n",
    "else:\n",
    "    print(\"Error acquiring token:\", result.get(\"error\"), result.get(\"error_description\"))"
   ]
  },
  {
   "cell_type": "code",
   "execution_count": 73,
   "metadata": {},
   "outputs": [
    {
     "name": "stdout",
     "output_type": "stream",
     "text": [
      "('Petición', 'WALTER', 'Cédula ciudadanía', 1015427317, 'WHERNANDEZ@CELERIX.COM', 234, '2024-05-28T05:00:00Z', '3245', 'Garantia', 'Bogota', 'T3WHRTE', 'Acepto', '11')\n",
      "Bogota T3WHRTE\n",
      "('Queja', 'WALTER', 'Cédula ciudadanía', 1234, 'WHERNANDEZ@CELERIX.COM', 12, '2024-06-11T05:00:00Z', '765', 'Garantia', 'Bogota', 'TEST', 'Acepto', '12')\n",
      "Bogota TEST\n"
     ]
    }
   ],
   "source": [
    "# Realizar una solicitud\n",
    "\n",
    "headers = {\n",
    "    'Authorization': f'Bearer {token}'\n",
    "}\n",
    "\n",
    "response = requests.get(f\"https://graph.microsoft.com/v1.0/sites/12750d54-6748-4206-97bd-94929c8d55a6/lists/55bf5444-d5f7-412a-a520-a6e70e36bfbb/items\", headers=headers)\n",
    "\n",
    "for form in response.json()['value']:\n",
    "    response_id = requests.get(f\"https://graph.microsoft.com/v1.0/sites/12750d54-6748-4206-97bd-94929c8d55a6/lists/55bf5444-d5f7-412a-a520-a6e70e36bfbb/items/{form['id']}\", headers=headers)\n",
    "    \n",
    "    fields=response_id.json()['fields']\n",
    "    pqrs=(fields['Solicitud'],fields['nombre_completo'],fields['tipo_documento'],int(fields['numero_documento']),fields['correo_electronico'],int(fields['telefono_contacto']),fields['fecha_compra'],fields['numero_factura'],fields['area'],fields['descripcion'],fields['sede'],fields['politica_datos'],fields['id'])\n",
    "    print(pqrs)\n",
    "    try:\n",
    "        # Eliminar espacion vacios\n",
    "        if None in pqrs:\n",
    "            pqrs=['' if item is None else item for item in list(pqrs)]\n",
    "            pqrs=tuple(pqrs)\n",
    "        \n",
    "        Solicitud,Nombre_completo,Tipo_documento,Documento,Correo,Telefono_contacto,Fecha_compra,No_factura,Area_pqrs,Descripcion_pqrs,Sede,Politica_datos,RecordID=pqrs\n",
    "        try:\n",
    "            # Convertir el string a objeto datetime\n",
    "            fecha_obj = datetime.fromisoformat(Fecha_compra.replace('Z', '+00:00'))\n",
    "            Fecha_compra=str(fecha_obj.day)+\"/\"+str(fecha_obj.month)+\"/\"+str(fecha_obj.year)\n",
    "        except:\n",
    "            print(Fecha_compra)\n",
    "        print(Descripcion_pqrs,Sede)\n",
    "        \"\"\" -------------------- Insertar datos -------------------------- \"\"\"\n",
    "        query=\"\"\"INSERT INTO PQRS (Solicitud,Nombre_completo,Tipo_documento,Documento,Correo,Telefono_contacto,Fecha_compra_texto,No_factura,Area_pqrs,Descripcion_pqrs,Sede,Politica_datos,RecordID) \n",
    "        values ('{0}','{1}','{2}',{3},'{4}',{5},'{6}','{7}','{8}','{9}','{10}','{11}',{12})\"\"\".format(Solicitud,Nombre_completo,Tipo_documento,Documento,Correo,Telefono_contacto,Fecha_compra,No_factura,Area_pqrs,Descripcion_pqrs,Sede,Politica_datos,RecordID)\n",
    "        cursor.execute(query)\n",
    "        conn.commit()\n",
    "        \"\"\"----------------------------------------------------------------\"\"\"\n",
    "\n",
    "        \"\"\"---------------------- Eliminar datos de lista -----------------\"\"\"\n",
    "        #response_id = requests.delete(f\"https://graph.microsoft.com/v1.0/sites/12750d54-6748-4206-97bd-94929c8d55a6/lists/55bf5444-d5f7-412a-a520-a6e70e36bfbb/items/{int(RecordID)}\", headers=headers)\n",
    "        \"\"\"----------------------------------------------------------------\"\"\"\n",
    "\n",
    "\n",
    "        \"\"\"-------------- Enviar correo ---------\"\"\"\n",
    "        # Crear el mensaje\n",
    "        mensaje = MIMEMultipart()\n",
    "        mensaje['From'] = email_address\n",
    "        mensaje['To'] = Correo\n",
    "        mensaje['Subject'] = 'Gestion PQRS'\n",
    "\n",
    "        # Contenido HTML del mensaje\n",
    "        contenido_html = f\"\"\"\n",
    "            <h2 style=\"text-align: center\">GESTION PQRS</h2>\n",
    "            <p> Hola, ¡esperamos te encuentres muy bien!\n",
    "                \n",
    "            Para Mundimotos es muy importante conocer tu opinión, por esto te confirmamos que hemos recibido tu PQR y la misma quedó radicada con el número {RecordID},  el cual te permitirá hacer seguimiento a tu trámite.\n",
    "                \n",
    "            Recuerda que contamos con 15 días hábiles (lunes a viernes) para dar respuesta, de acuerdo con ley 1755 de 2015.\n",
    "                \n",
    "            Gracias por escribirnos.</p>\n",
    "         \"\"\"\n",
    "\n",
    "        # Adjuntar el contenido HTML al mensaje\n",
    "        mensaje.attach(MIMEText(contenido_html, 'html'))\n",
    "\n",
    "        # Iniciar sesión en el servidor SMTP de Gmail\n",
    "        with smtplib.SMTP_SSL('smtp.gmail.com', 465) as servidor_smtp:\n",
    "            servidor_smtp.login(email_address, email_password)\n",
    "\n",
    "            # Enviar el correo electrónico\n",
    "            servidor_smtp.send_message(mensaje)\n",
    "\n",
    "    except:\n",
    "        print('Error')\n",
    "\n",
    "\n"
   ]
  },
  {
   "cell_type": "code",
   "execution_count": 72,
   "metadata": {},
   "outputs": [
    {
     "ename": "NameError",
     "evalue": "name 'pqrs_tabla_auxiliar' is not defined",
     "output_type": "error",
     "traceback": [
      "\u001b[1;31m---------------------------------------------------------------------------\u001b[0m",
      "\u001b[1;31mNameError\u001b[0m                                 Traceback (most recent call last)",
      "Cell \u001b[1;32mIn[72], line 1\u001b[0m\n\u001b[1;32m----> 1\u001b[0m \u001b[38;5;28;01mfor\u001b[39;00m pqrs \u001b[38;5;129;01min\u001b[39;00m \u001b[43mpqrs_tabla_auxiliar\u001b[49m:\n\u001b[0;32m      2\u001b[0m     \u001b[38;5;28;01mtry\u001b[39;00m:\n\u001b[0;32m      3\u001b[0m         \u001b[38;5;28;01mif\u001b[39;00m \u001b[38;5;28;01mNone\u001b[39;00m \u001b[38;5;129;01min\u001b[39;00m pqrs:\n",
      "\u001b[1;31mNameError\u001b[0m: name 'pqrs_tabla_auxiliar' is not defined"
     ]
    }
   ],
   "source": [
    "for pqrs in pqrs_tabla_auxiliar:\n",
    "    try:\n",
    "        if None in pqrs:\n",
    "            pqrs=['' if item is None else item for item in list(pqrs)]\n",
    "            pqrs=tuple(pqrs)\n",
    "\n",
    "        Solicitud,Nombre_completo,Tipo_documento,Documento,Correo,Telefono_contacto,Fecha_compra,No_factura,Area_pqrs,Descripcion_pqrs,Sede,Politica_datos,RecordID=pqrs\n",
    "        try:\n",
    "            Fecha_compra=str(Fecha_compra.strftime('%d/%m/%Y'))\n",
    "        except:\n",
    "            print(Fecha_compra)\n",
    "            #Fecha_compra=''\n",
    "        #print(Solicitud,Nombre_completo,Tipo_documento,Documento,Correo,Telefono_contacto,Fecha_compra,No_factura,Area_pqrs,Descripcion_pqrs,Sede,Politica_datos,id)\n",
    "        query=\"\"\"INSERT INTO PQRS (Solicitud,Nombre_completo,Tipo_documento,Documento,Correo,Telefono_contacto,Fecha_compra_texto,No_factura,Area_pqrs,Descripcion_pqrs,Sede,Politica_datos,RecordID) \n",
    "        values ('{0}','{1}','{2}',{3},'{4}',{5},'{6}','{7}','{8}','{9}','{10}','{11}',{12})\"\"\".format(Solicitud,Nombre_completo,Tipo_documento,Documento,Correo,Telefono_contacto,Fecha_compra,No_factura,Area_pqrs,Descripcion_pqrs,Sede,Politica_datos,RecordID)\n",
    "        cursor.execute(query)\n",
    "        conn.commit()\n",
    "        query_delete=\"\"\"Delete from pqrs_mundimoto where RecordID = {0}\"\"\".format(int(RecordID))\n",
    "        #cursor_aux.execute(query_delete)\n",
    "        #conn_aux.commit()\n",
    "        \n",
    "\n",
    "    except:\n",
    "        print(\"error\")\n",
    "\n",
    "\n",
    "\n",
    "#cursor_aux.execute(\"\"\"Delete from pqrs_mundimoto\"\"\")\n",
    "#conn_aux.commit()\n",
    "#conn_aux.close()\n",
    "conn.close()"
   ]
  }
 ],
 "metadata": {
  "kernelspec": {
   "display_name": "pqrs",
   "language": "python",
   "name": "python3"
  },
  "language_info": {
   "codemirror_mode": {
    "name": "ipython",
    "version": 3
   },
   "file_extension": ".py",
   "mimetype": "text/x-python",
   "name": "python",
   "nbconvert_exporter": "python",
   "pygments_lexer": "ipython3",
   "version": "3.11.7"
  }
 },
 "nbformat": 4,
 "nbformat_minor": 2
}
